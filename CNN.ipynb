{
 "cells": [
  {
   "cell_type": "code",
   "execution_count": 1,
   "metadata": {},
   "outputs": [
    {
     "name": "stderr",
     "output_type": "stream",
     "text": [
      "Using TensorFlow backend.\n"
     ]
    }
   ],
   "source": [
    "import tensorflow as tf\n",
    "from keras import backend as K\n",
    "from keras.models import Sequential, Model\n",
    "from keras.layers import Input, Dense, Dropout, Activation, Flatten, BatchNormalization, add\n",
    "from keras.layers import Conv2D, MaxPooling2D, AveragePooling2D\n",
    "import keras\n",
    "from NpyDataGenerator import NpyDataGenerator\n",
    "import numpy as np\n",
    "import pathlib\n",
    "import matplotlib.pyplot as plt\n",
    "import pandas as pd\n",
    "import os"
   ]
  },
  {
   "cell_type": "code",
   "execution_count": 2,
   "metadata": {},
   "outputs": [],
   "source": [
    "config = tf.ConfigProto()\n",
    "config.gpu_options.allow_growth = True\n",
    "config.gpu_options.visible_device_list=\"0\"\n",
    "sess = tf.Session(config=config)\n",
    "K.set_session(sess)"
   ]
  },
  {
   "cell_type": "code",
   "execution_count": 3,
   "metadata": {},
   "outputs": [],
   "source": [
    "model_name = \"CNN\"\n",
    "num_classes = 13\n",
    "classes = ['0gaikan', '1genkan', '2ima', '3kittin', '4huro', '5toire', '6senmen', '7syuno', '8beranda', '9entoransu', '10tyusyajo', '11setubi', '12sonota']\n",
    "work_dir = '/home/onimem/work/housing-classifier'\n",
    "input_shape=(224, 224, 3)"
   ]
  },
  {
   "cell_type": "code",
   "execution_count": 4,
   "metadata": {},
   "outputs": [],
   "source": [
    "def CNN():\n",
    "    model = Sequential()\n",
    "    model.add(Conv2D(32, (7, 7), padding='same', activation='relu', input_shape=input_shape))\n",
    "    model.add(MaxPooling2D(pool_size=(2, 2)))\n",
    "\n",
    "    model.add(Conv2D(64, (2, 2), padding='same', activation='relu'))\n",
    "    model.add(MaxPooling2D(pool_size=(5, 5)))\n",
    "\n",
    "    model.add(Dropout(0.5))\n",
    "    model.add(Flatten())\n",
    "    model.add(Dense(num_classes))\n",
    "    model.add(Activation('softmax'))\n",
    "\n",
    "    return model"
   ]
  },
  {
   "cell_type": "code",
   "execution_count": 5,
   "metadata": {},
   "outputs": [
    {
     "name": "stdout",
     "output_type": "stream",
     "text": [
      "Populating the interactive namespace from numpy and matplotlib\n"
     ]
    }
   ],
   "source": [
    "%pylab inline --no-import-all\n",
    "def plot_history(history, save_name):\n",
    "    # print(history.history.keys())\n",
    "\n",
    "    # 損失の履歴をプロット\n",
    "    plt.plot(history.history['loss'])\n",
    "    plt.plot(history.history['val_loss'])\n",
    "    plt.title('model loss')\n",
    "    plt.xlabel('epoch')\n",
    "    plt.ylabel('loss')\n",
    "    plt.legend(['loss', 'val_loss'], loc='lower right')\n",
    "    plt.savefig(save_name + \"/loss.png\")\n",
    "    plt.show()\n",
    "    \n",
    "    # 精度の履歴をプロット\n",
    "    plt.plot(history.history['acc'])\n",
    "    plt.plot(history.history['val_acc'])\n",
    "    plt.title('model accuracy')\n",
    "    plt.xlabel('epoch')\n",
    "    plt.ylabel('accuracy')\n",
    "    plt.legend(['acc', 'val_acc'], loc='lower right')\n",
    "    plt.savefig(save_name + \"/acc.png\")\n",
    "    plt.show()\n",
    "    \n",
    "    # CSV出力\n",
    "    df = pd.DataFrame({\n",
    "        'loss' : history.history['loss'],\n",
    "        'val_loss' : history.history['val_loss'],\n",
    "        'acc' : history.history['acc'],\n",
    "        'val_acc' : history.history['val_acc']\n",
    "    })\n",
    "    df.to_csv(save_name + '/history.csv')"
   ]
  },
  {
   "cell_type": "code",
   "execution_count": 6,
   "metadata": {},
   "outputs": [],
   "source": [
    "train_datagen = NpyDataGenerator()\n",
    "test_datagen = NpyDataGenerator()\n",
    "early_stopping = keras.callbacks.EarlyStopping(monitor='val_loss', patience=10, verbose=1)"
   ]
  },
  {
   "cell_type": "code",
   "execution_count": null,
   "metadata": {},
   "outputs": [
    {
     "name": "stdout",
     "output_type": "stream",
     "text": [
      "Epoch 1/300\n",
      "2/2 [==============================] - 6s 3s/step - loss: 15.0200 - acc: 0.0469 - val_loss: 16.1181 - val_acc: 0.0000e+00\n",
      "Epoch 2/300\n",
      "2/2 [==============================] - 6s 3s/step - loss: 15.8663 - acc: 0.0156 - val_loss: 16.1181 - val_acc: 0.0000e+00\n",
      "Epoch 3/300\n",
      "2/2 [==============================] - 5s 2s/step - loss: 15.6144 - acc: 0.0312 - val_loss: 15.3855 - val_acc: 0.0455\n",
      "Epoch 4/300\n",
      "2/2 [==============================] - 4s 2s/step - loss: 15.6144 - acc: 0.0312 - val_loss: 15.3855 - val_acc: 0.0455\n",
      "Epoch 5/300\n",
      "2/2 [==============================] - 4s 2s/step - loss: 15.3626 - acc: 0.0469 - val_loss: 14.6528 - val_acc: 0.0909\n",
      "Epoch 6/300\n",
      "2/2 [==============================] - 4s 2s/step - loss: 15.8663 - acc: 0.0156 - val_loss: 16.1181 - val_acc: 0.0000e+00\n",
      "Epoch 7/300\n",
      "2/2 [==============================] - 4s 2s/step - loss: 15.8663 - acc: 0.0156 - val_loss: 16.1181 - val_acc: 0.0000e+00\n",
      "Epoch 8/300\n",
      "2/2 [==============================] - 4s 2s/step - loss: 15.6144 - acc: 0.0312 - val_loss: 15.3855 - val_acc: 0.0455\n",
      "Epoch 9/300\n"
     ]
    }
   ],
   "source": [
    "train_dir = pathlib.Path(work_dir + '/data/')\n",
    "test_dir = pathlib.Path(work_dir + '/data/')    \n",
    "    \n",
    "model = CNN()\n",
    "for layer in model.layers:\n",
    "    layer.trainable = True\n",
    "model.compile(loss='categorical_crossentropy',\n",
    "              optimizer=keras.optimizers.SGD(lr=0.01, decay=1e-6, momentum=0.9, nesterov=True),\n",
    "              metrics=['accuracy'])\n",
    "    \n",
    "history = model.fit_generator(\n",
    "    train_datagen.flow_from_directory(train_dir,classes,32),\n",
    "    steps_per_epoch=2,\n",
    "    epochs=300,\n",
    "    validation_data=test_datagen.flow_from_directory(test_dir,classes,11),\n",
    "    validation_steps=2,\n",
    "    #callbacks=[early_stopping]\n",
    ")\n",
    "\n",
    "save_name = work_dir + '/history/' + model_name\n",
    "os.mkdir(save_name)\n",
    "    \n",
    "# 学習履歴をプロット\n",
    "plot_history(history, save_name)\n",
    "    \n",
    "model.save(save_name + '/' + model_name  + '.h5')"
   ]
  },
  {
   "cell_type": "code",
   "execution_count": null,
   "metadata": {},
   "outputs": [],
   "source": [
    "from PIL import Image\n",
    "from keras.preprocessing.image import img_to_array, load_img\n",
    "from IPython.display import display\n",
    "from IPython.display import Image as Im\n",
    "import numpy as np\n",
    "\n",
    "img = img_to_array(load_img('./data/1genkan/P1020453.jpg', target_size=(224,224)))  ### 224*224にリサイズ\n",
    "# print(type(img)) <type 'numpy.ndarray'>\n",
    "print(img.shape)\n",
    "pilImg = Image.fromarray(np.uint8(img))\n",
    "display(pilImg)\n",
    "\n",
    "img = Im('./data/1genkan/P1020453.jpg')\n",
    "display(img)"
   ]
  },
  {
   "cell_type": "code",
   "execution_count": null,
   "metadata": {},
   "outputs": [],
   "source": []
  }
 ],
 "metadata": {
  "kernelspec": {
   "display_name": "Python 2",
   "language": "python",
   "name": "python2"
  },
  "language_info": {
   "codemirror_mode": {
    "name": "ipython",
    "version": 2
   },
   "file_extension": ".py",
   "mimetype": "text/x-python",
   "name": "python",
   "nbconvert_exporter": "python",
   "pygments_lexer": "ipython2",
   "version": "2.7.15"
  }
 },
 "nbformat": 4,
 "nbformat_minor": 2
}
